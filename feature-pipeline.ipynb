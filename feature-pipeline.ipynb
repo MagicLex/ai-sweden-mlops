{
 "cells": [
  {
   "cell_type": "code",
   "execution_count": null,
   "metadata": {},
   "outputs": [],
   "source": [
    "import pandas as pd\n",
    "import numpy as np\n",
    "import hopsworks\n",
    "from datetime import datetime\n",
    "\n",
    "# Read and clean the data\n",
    "credit_cards_df = pd.read_csv(\"Deviation_from_Policy_dataset.csv\")\n",
    "\n",
    "# Create a copy for cleaning\n",
    "cleaned_df = credit_cards_df.copy()\n",
    "\n",
    "# Add a transaction_id as primary key\n",
    "cleaned_df['transaction_id'] = np.arange(len(cleaned_df))\n",
    "\n",
    "# Replace negative distances with absolute values\n",
    "cleaned_df['distance_from_home'] = cleaned_df['distance_from_home'].abs()\n",
    "cleaned_df['distance_from_last_transaction'] = cleaned_df['distance_from_last_transaction'].abs()\n",
    "\n",
    "# Add timestamp column (since we're dealing with a static dataset, we'll use current time)\n",
    "cleaned_df['timestamp'] = datetime.now()\n",
    "\n"
   ]
  }
 ],
 "metadata": {
  "language_info": {
   "name": "python"
  }
 },
 "nbformat": 4,
 "nbformat_minor": 2
}
